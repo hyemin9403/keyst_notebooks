{
 "cells": [
  {
   "cell_type": "code",
   "execution_count": 50,
   "metadata": {},
   "outputs": [],
   "source": [
    "import pandas as pd\n",
    "import numpy as np\n",
    "import matplotlib.pyplot as plt\n",
    "\n",
    "plt.rcParams[\"figure.figsize\"] = (12, 6)\n",
    "\n",
    "%matplotlib inline\n",
    "\n",
    "import redis\n",
    "\n",
    "cache_ip = '198.13.60.78'\n",
    "cache_pw = 'da56038fa453c22d2c46e83179126e97d4d272d02ece83eb83a97357e842d065'\n",
    "\n",
    "r = redis.StrictRedis(host=cache_ip, port=6379, password=cache_pw)\n",
    "\n",
    "# redis keys\n",
    "KOSPI_INDEX = 'I.001_INDEX'\n",
    "\n",
    "KOSPI_TICKERS = 'KOSPI_TICKERS'\n",
    "KOSDAQ_TICKERS = 'KOSDAQ_TICKERS'\n",
    "\n",
    "KOSPI_OHLCV = 'KOSPI_OHLCV'\n",
    "KOSDAQ_OHLCV = 'KOSDAQ_OHLCV'\n",
    "\n",
    "KOSPI_VOL = 'KOSPI_VOL'\n",
    "KOSDAQ_VOL = 'KOSDAQ_VOL'\n",
    "\n",
    "kp_tickers = [ticker.decode() for ticker in r.lrange(KOSPI_TICKERS, 0 ,-1)]\n",
    "kd_tickers = [ticker.decode() for ticker in r.lrange(KOSDAQ_TICKERS, 0 ,-1)]\n",
    "tickers = kp_tickers + kd_tickers"
   ]
  },
  {
   "cell_type": "code",
   "execution_count": 51,
   "metadata": {},
   "outputs": [],
   "source": [
    "# 종가/거래량 데이터 불러오기\n",
    "kp_ohlcv = pd.read_msgpack(r.get(KOSPI_OHLCV))\n",
    "kd_ohlcv = pd.read_msgpack(r.get(KOSDAQ_OHLCV))\n",
    "\n",
    "kp_vol = pd.read_msgpack(r.get(KOSPI_VOL))\n",
    "kd_vol = pd.read_msgpack(r.get(KOSDAQ_VOL))\n",
    "\n",
    "# 거래대금 데이터 만들기\n",
    "kp_vol_prc = kp_ohlcv * kp_vol\n",
    "kd_vol_prc = kd_ohlcv * kd_vol\n",
    "\n",
    "# 수익률 데이터 만들기\n",
    "kp_ret = kp_ohlcv.pct_change()\n",
    "kd_ret = kd_ohlcv.pct_change()\n",
    "\n",
    "# 모든 OHLCV, Volume, Return 데이터를 하나로 묶는다\n",
    "ohlcv = pd.concat([kp_ohlcv, kd_ohlcv], axis=1, sort=True)\n",
    "volume = pd.concat([kp_vol, kd_vol], axis=1, sort=True)\n",
    "vol_prc = pd.concat([kp_vol_prc, kd_vol_prc], axis=1, sort=True)\n",
    "returns = pd.concat([kp_ret, kd_ret], axis=1, sort=True)"
   ]
  },
  {
   "cell_type": "markdown",
   "metadata": {},
   "source": [
    "### 다수 전략 생성"
   ]
  },
  {
   "cell_type": "code",
   "execution_count": 6,
   "metadata": {},
   "outputs": [],
   "source": [
    "# 단순 전략 1: 모멘텀 포트폴리오\n",
    "# 단순 전략 2: 저변동성 포트폴리오\n",
    "# 단순 전략 3: 수급 포트폴리오"
   ]
  },
  {
   "cell_type": "code",
   "execution_count": 52,
   "metadata": {},
   "outputs": [],
   "source": [
    "def set_periodic_close(ohlcv_df, period='M'):\n",
    "    ### 인자 설명:\n",
    "    ### 1. ohlcv_df (pd.DataFrame)\n",
    "    ### 2. period (str) --> W, M, Q, 6M, A\n",
    "    ###                     일주일, 한달, 세달, 여섯달, 일년 주기 종가\n",
    "\n",
    "    # 인자로 받은 데이터프레임 ohlcv_df의 인덱스를 데이트타임으로 바꿔준다\n",
    "    ohlcv_df.index = pd.to_datetime(ohlcv_df.index)\n",
    "    periodic_close = ohlcv_df.resample(\n",
    "        period).last()  # reference: http://benalexkeen.com/resampling-time-series-data-with-pandas/\n",
    "    periodic_close.dropna(how='all', inplace=True)\n",
    "    return periodic_close"
   ]
  },
  {
   "cell_type": "code",
   "execution_count": 53,
   "metadata": {},
   "outputs": [],
   "source": [
    "def dual_momentum(data):\n",
    "    # data (pd.DataFrame) --> 한 달을 주기로 resample된 데이터프레임\n",
    "    # resample 처리가 안 된 상태라면, set_periodic_close() 메소드 사용\n",
    "    for i in range(1, 13):\n",
    "        momentum = (data - data.shift(i)) / data.shift(i)  # 단순 수익률: (P(t) - P(t-i))/P(t-i), P = 종가\n",
    "        if i == 1:\n",
    "            temp = momentum\n",
    "        else:\n",
    "            temp += momentum\n",
    "    mom = temp / 12  # 위에서 구한 모든 모멘텀값을 더한 후 12로 나눔 (12개월 평균 모멘텀이 된다)\n",
    "    return mom.fillna(0)  # nan은 0으로 처리"
   ]
  },
  {
   "cell_type": "code",
   "execution_count": 54,
   "metadata": {},
   "outputs": [],
   "source": [
    "def volatility(returns_data, window=12):\n",
    "    # 변동성 계산\n",
    "    # 보통 변동성 계산은 일년을 주기로 계산한다\n",
    "    # 그래서 returns_data 월별로 resample된거라면 window를 12로 잡는다\n",
    "    # (데이터가 일일 데이터면 보통 window를 200으로 잡는다)\n",
    "    # (데이터가 일주일로 resample되었다면, window는 48을 잡는다)\n",
    "    # (3개월/분기별로 resample 되었다면 window는 4로 잡는다)\n",
    "    return returns_data.rolling(window=window).std().fillna(0)"
   ]
  },
  {
   "cell_type": "code",
   "execution_count": 55,
   "metadata": {},
   "outputs": [],
   "source": [
    "# 모멘텀 포트폴리오\n",
    "ohlcv_m = set_periodic_close(ohlcv)\n",
    "ret_m = ohlcv_m.pct_change().fillna(0)\n",
    "momentum = dual_momentum(ohlcv_m)\n",
    "momentum_rank = momentum.T.rank(ascending=False).T"
   ]
  },
  {
   "cell_type": "code",
   "execution_count": 80,
   "metadata": {
    "scrolled": true
   },
   "outputs": [],
   "source": [
    "# 모멘텀 상위 10 종목에 투자\n",
    "backtest_result = []\n",
    "\n",
    "for date in range(len(ohlcv_m['2014':]) - 1):\n",
    "    mom_row = momentum['2014':].iloc[date]\n",
    "    rank_row = momentum_rank['2014':].iloc[date]\n",
    "    \n",
    "    top_rank = rank_row[rank_row < 300].index\n",
    "    mom_data = mom_row[top_rank]\n",
    "    abs_mom_index = mom_data[mom_data > 0].index\n",
    "    \n",
    "    invest_ret = ret_m['2014':].iloc[date + 1][abs_mom_index].mean()\n",
    "    backtest_result.append(invest_ret)\n",
    "    \n",
    "bt = pd.DataFrame()\n",
    "bt['Momentum'] = backtest_result"
   ]
  },
  {
   "cell_type": "code",
   "execution_count": 81,
   "metadata": {},
   "outputs": [
    {
     "data": {
      "text/plain": [
       "<matplotlib.axes._subplots.AxesSubplot at 0x115f37630>"
      ]
     },
     "execution_count": 81,
     "metadata": {},
     "output_type": "execute_result"
    },
    {
     "data": {
      "image/png": "[encoded data removed]",
      "text/plain": [
       "<Figure size 432x288 with 1 Axes>"
      ]
     },
     "metadata": {},
     "output_type": "display_data"
    }
   ],
   "source": [
    "(bt + 1).cumprod().plot()"
   ]
  },
  {
   "cell_type": "code",
   "execution_count": 39,
   "metadata": {},
   "outputs": [],
   "source": [
    "kp = pd.read_msgpack(r.get(KOSPI_INDEX))\n",
    "kp_prc = kp['cls_prc']\n",
    "kp_ret = kp_prc.pct_change().fillna(0)\n",
    "kp_yc = (kp_ret + 1).cumprod()"
   ]
  },
  {
   "cell_type": "code",
   "execution_count": 40,
   "metadata": {},
   "outputs": [
    {
     "data": {
      "image/png": "[encoded data removed]",
      "text/plain": [
       "<Figure size 432x288 with 1 Axes>"
      ]
     },
     "metadata": {},
     "output_type": "display_data"
    }
   ],
   "source": [
    "kp_yc.plot()\n",
    "plt.show()"
   ]
  },
  {
   "cell_type": "code",
   "execution_count": null,
   "metadata": {},
   "outputs": [],
   "source": []
  }
 ],
 "metadata": {
  "kernelspec": {
   "display_name": "Python 3",
   "language": "python",
   "name": "python3"
  },
  "language_info": {
   "codemirror_mode": {
    "name": "ipython",
    "version": 3
   },
   "file_extension": ".py",
   "mimetype": "text/x-python",
   "name": "python",
   "nbconvert_exporter": "python",
   "pygments_lexer": "ipython3",
   "version": "3.7.0"
  }
 },
 "nbformat": 4,
 "nbformat_minor": 2
}
